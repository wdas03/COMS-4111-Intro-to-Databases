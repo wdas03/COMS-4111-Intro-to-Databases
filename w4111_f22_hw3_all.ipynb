{
 "cells": [
  {
   "cell_type": "markdown",
   "metadata": {},
   "source": [
    "<style  type=\"text/css\"> \n",
    "</style>\n",
    "\n",
    "<b><center>\n",
    "<span style=\"font-size: 24pt; line-height: 1.2\">\n",
    "COMS W4111-003/V003 (Fall 2022)<br>Introduction to Databases\n",
    "</span>\n",
    "</center></b>\n",
    "</span><br>\n",
    "<p>\n",
    "<i><center>\n",
    "<span style=\"font-size: 20pt; line-height: 1.2\">\n",
    "Homework 3: Programming and Non-Programming Tracks\n",
    "</span>\n",
    "</center></i>"
   ]
  },
  {
   "cell_type": "markdown",
   "metadata": {},
   "source": [
    "__Note:__ Please replace the information below with your last name, first name and UNI.<br><br>\n",
    "\n",
    "\n",
    "\n",
    "<i>\n",
    "<span style=\"font-size: 20pt; line-height: 1.2\"; >\n",
    "Das, William, whd2108\n",
    "</span>\n",
    "</i>"
   ]
  },
  {
   "cell_type": "markdown",
   "metadata": {},
   "source": [
    "## Introduction\n",
    "\n",
    "### Objectives\n",
    "\n",
    "\n",
    "### Submission\n",
    "1. File > Download as > PDF via latex (.PDF) (Use the \"File\" menu option on the Jupyter notebook tool bar, not the option on the browser tool bar).\n",
    "2. Upload .pdf and .ipynb to GradeScope\n",
    "\n",
    "**This assignment is due December 7, 11:59 pm EDT**\n",
    "\n",
    "\n",
    "### Collaboration\n",
    "- You may use any information you get in TA or Prof. Ferguson's office hours, from lectures or from recitations.\n",
    "- You may use information that you find on the web.\n",
    "- You are NOT allowed to collaborate with other students outside of office hours.\n"
   ]
  },
  {
   "cell_type": "markdown",
   "metadata": {},
   "source": [
    "# Part A: Written Questions"
   ]
  },
  {
   "cell_type": "markdown",
   "metadata": {},
   "source": [
    "## W1: Disk Performance\n",
    "\n",
    "__Question:__\n",
    "\n",
    "Some databases use magnetic disks in a way that only setors in outer traks are\n",
    "used, while setors in inner traks are left unused. What might be the benefits\n",
    "of doing so?"
   ]
  },
  {
   "cell_type": "markdown",
   "metadata": {},
   "source": [
    "__Answer:__"
   ]
  },
  {
   "cell_type": "markdown",
   "metadata": {},
   "source": [
    "- The outer tracks contain more sectors than in the inner tracks, which allows us to access more information, and at a faster rate—the data-transfer rate is lower for inner tracks due to the lower linear velocity rate at which the disk spins. The size per track of inner tracks typically ranges from 500 to 1000 bytes and the size per track of outer tracks ranges from 1000 to 2000 bytes, which allows us to access more information in outer tracks."
   ]
  },
  {
   "cell_type": "markdown",
   "metadata": {},
   "source": [
    "## W2: RAID\n",
    "\n",
    "__Question:__\n",
    "\n",
    "Briefly explain RAID-0, RAID-1 and RAID-5. Briefly explain pros and cons."
   ]
  },
  {
   "cell_type": "markdown",
   "metadata": {},
   "source": [
    "__Answer:__"
   ]
  },
  {
   "cell_type": "markdown",
   "metadata": {},
   "source": [
    "The different RAID levels correspond to different configurations for purposes of data redundancy and performance imporvement for data storage.\n",
    "- RAID-0: consists of striping (splits data evenly across two or more disks) without any redundancy (mirroring or parity)—it doesn't use parity information, redundancy, or account for fault tolerance.\n",
    "    - Pros: Allows for better, faster perfomance, where stripes are accessed in parallel.\n",
    "    - Cons: Due to lack of fault tolerance or redundancy, potentially leads to total data loss when when one drive fails.\n",
    "- RAID-1: consists of mirroring, without parity or striping—data is copied, or mirrored across two or more disks.\n",
    "    - Pros: allows for reliable disk and data storage, and increased read performance. Also has the best write performance.\n",
    "    - Cons: write performance is worse since data is mirrored across disks, along with a limit on size of data which is restricted to smallest disk member.\n",
    "- RAID-5: consists of block-level striping with distributed parity using three or more disks.\n",
    "    - Pros: improved performance through parallelism, particularly with rotation/seek and data transfers. Offers good read performance, when data is accessed frequently. Data is accessible and not lost if disk fails.\n",
    "    - Cons: poor write performance, compared to RAID-0, due to parity writing across disks."
   ]
  },
  {
   "cell_type": "markdown",
   "metadata": {},
   "source": [
    "## W3: Storage Hierarchy\n",
    "\n",
    "__Question:__\n",
    "\n",
    "Briefly explain the following levels of the storage hierarchy.\n",
    "- Cache\n",
    "- Main memory\n",
    "- Disk"
   ]
  },
  {
   "cell_type": "markdown",
   "metadata": {},
   "source": [
    "__Answer:__"
   ]
  },
  {
   "cell_type": "markdown",
   "metadata": {},
   "source": [
    "- Cache: component of primary storage that stores frequently used data and instructions for much faster access when the data is needed (volatile). It acts as a buffer between the processor and main memory.\n",
    "- Main memory: component of primary storage that is volatile—it holds data accessible by the processor and any data that the processor is currently working or being executed by the CPU.\n",
    "- Disk: component of secondary storage that is non-volatile, and is much slower than cache or main memory."
   ]
  },
  {
   "cell_type": "markdown",
   "metadata": {},
   "source": [
    "## W4: Disks\n",
    "\n",
    "__Question:__\n",
    "\n",
    "Compare the pros and cons of hard disks versus SSDs."
   ]
  },
  {
   "cell_type": "markdown",
   "metadata": {},
   "source": [
    "__Answer:__"
   ]
  },
  {
   "cell_type": "markdown",
   "metadata": {},
   "source": [
    "- Hard disks have spinning disks where data is stored magnetically. They are lower in cost and useful when data does not need to be accessed frequently, such as for backup data. \n",
    "- SSDs use flash memory without the use of spinning disks, which allows for increased performance and are much smaller in size.\n",
    "- SSDS are much faster than SSDs due to their use of flash memory, which leads to increased performance. Magnetic disks have a higher latency for data access than SSDs. SSDs also generally have higher data transfer bandwidth than hard disks, but a higher cost per byte. SSDs are also generally more reliable than hard disks since they don't contain internal moving parts, and won't break down due to external conditions such thermal issues—hard disks can break down and lose data. SSDs are also more expensive than hard disks."
   ]
  },
  {
   "cell_type": "markdown",
   "metadata": {},
   "source": [
    "## W4: Disk Addressing\n",
    "\n",
    "__Question:__\n",
    "\n",
    "Briefly explain cylinder-sector-head addressing and logical block addressing."
   ]
  },
  {
   "cell_type": "markdown",
   "metadata": {},
   "source": [
    "__Answer:__"
   ]
  },
  {
   "cell_type": "markdown",
   "metadata": {},
   "source": [
    "- Cylinder-sector head addressing: genereally older method used to address and identify physical blocks of data on hard disks using cylinder positions on a specific track, sector, and head number where the data is located.\n",
    "- Logical block addressing: used to idenfity location of data blocks on storage devices with a linear addressing scheme, where blocks are indexed by integers, incrementing from 0 and on. The disk controller and implementation translates this logical block adddress into the physical block address."
   ]
  },
  {
   "cell_type": "markdown",
   "metadata": {},
   "source": [
    "## W5: Record Management\n",
    "\n",
    "__Question:__\n",
    "\n",
    "Briefly explain the concepts of fixed length records and variable length records. What are some complexities that variable length records introduce?"
   ]
  },
  {
   "cell_type": "markdown",
   "metadata": {},
   "source": [
    "__Answer:__"
   ]
  },
  {
   "cell_type": "markdown",
   "metadata": {},
   "source": [
    "- Fixed-length records: record length is fixed, or constant. Record _i_ is stored from byte _n_ * (_i_ – 1), where _n_ is the size of each record.\n",
    "- Variable length records: when record length is not constant, and allows for storage of multiple record types in a file, such as varchars, and allows for repeating fields. Complexities arise with the reading and writing of records with attributes of variable length—for example, (1) how to easily extract individual attributes of variable lengths through optimized representations of single records, and (2) how to store variable length records in easily extractable blocks. (offset, length) pairs for varchar attributes are accounted for—where offset is where an attribute begins in a file, and length is the number of bytes occupied by the attribute. Slotted page headers use pointers to point to a corresponding record in a header and organize records into blocks."
   ]
  },
  {
   "cell_type": "markdown",
   "metadata": {},
   "source": [
    "## W6: File Organization\n",
    "\n",
    "__Question:__\n",
    "\n",
    "Briefly explain and compare heap file organization and sequential file organization."
   ]
  },
  {
   "cell_type": "markdown",
   "metadata": {},
   "source": [
    "__Answer:__"
   ]
  },
  {
   "cell_type": "markdown",
   "metadata": {},
   "source": [
    "- Heap file organization: Records can be placed anywhere there is free space in a file, and tend to stay at that location. Moreover, they are unordered. Free space maps are used to determine where there is free space to input data.  \n",
    "- Sequential file organization: Records are stored in order using a search-key mechanism and pointer chains, where a pointer in each record points to the next record in the search-key order. When sequential processing of files is needed, this organization is often used. Pointer chains are used to delete and insert items, where pointer chains have to be updated—the file often has to be reorganized to keep sequential order.\n",
    "\n",
    "The main difference between both types is that sequential files are ordered, as opposed to heap files. The ordered nature of sequential files introduces additional complexities with pointer chains for delete and insert operations on the file, as well as reorganizing the file to maintain sequential integrity."
   ]
  },
  {
   "cell_type": "markdown",
   "metadata": {},
   "source": [
    "## W7: Buffer Pool\n",
    "\n",
    "__Question:__\n",
    "\n",
    "What type of query might benefit from using most-recently-used eviction policy for buffer pool management?"
   ]
  },
  {
   "cell_type": "markdown",
   "metadata": {},
   "source": [
    "__Answer:__"
   ]
  },
  {
   "cell_type": "markdown",
   "metadata": {},
   "source": [
    "- Queries that require repetitive scanning, in a sequential pattern of files or large datasets, are often best suited for the MRU eviction polciy for buffer pool management. In general, MRU is useful when older data is more likely to be accessed—ie, if we know that the least recently used block will be referenced next, then MRU is more suitable for accessing the most recently used block."
   ]
  },
  {
   "cell_type": "markdown",
   "metadata": {},
   "source": [
    "## W8: Row versus Column Storage\n",
    "\n",
    "__Question:__\n",
    "\n",
    "For which types of queries are column oriented storage beneficial?"
   ]
  },
  {
   "cell_type": "markdown",
   "metadata": {},
   "source": [
    "__Answer:__"
   ]
  },
  {
   "cell_type": "markdown",
   "metadata": {},
   "source": [
    "- Column oriented storage is useful if we want to access many rows of a relation, but a specific subset (often few) of columns/attributes (project operations) due to optimized I/O operations and cache performance, where unneeded columns don't take up additional space and computation. Generally, for data analysis queries, such as aggregate functions which operate column-wise, column oriented storage is also beneficial (such as summing values in a column or calculating average)."
   ]
  },
  {
   "cell_type": "markdown",
   "metadata": {},
   "source": [
    "## W9: Multi-table Clustering\n",
    "\n",
    "__Question:__\n",
    "\n",
    "For which types of queries might multi-table clustering be useful?"
   ]
  },
  {
   "cell_type": "markdown",
   "metadata": {},
   "source": [
    "__Answer:__"
   ]
  },
  {
   "cell_type": "markdown",
   "metadata": {},
   "source": [
    "- JOIN operations are suited for multi-table clustering, where related tables are stored in a single file."
   ]
  },
  {
   "cell_type": "markdown",
   "metadata": {},
   "source": [
    "## W10: Indexes\n",
    "\n",
    "__Question:__\n",
    "\n",
    "Briefly explain and give the pros and cons of B+ tree indexes and hash indexes."
   ]
  },
  {
   "cell_type": "markdown",
   "metadata": {},
   "source": [
    "__Answer:__"
   ]
  },
  {
   "cell_type": "markdown",
   "metadata": {},
   "source": [
    "- B+ tree indices: B+ tree indices use balanced trees with equal length paths from leaf nodes to the root node, and is of fixed size _n_. The leaf nodes contain data pointers for indexing.\n",
    "    - Pros: Optimized lookup and search for values in tree due to smaller number of levels, insertion and deletion is also efficient (automatically reorganizes itself with small changes). Also allows for efficient range queries (finding records within a range of values).\n",
    "    - Cons: Insertion and deletion are more complicated (extra overhead), extra space overhead, and moving records can become expensive. Moreover, random access can be expensive.\n",
    "- Hash indices: Buckets (unit of storage for one or more records) store actual records, and have unique addresses—a hash function maps an index to these addresses.\n",
    "    - Pros: Fast for data retrieval of key value, efficient insert and deletions, generally doesn't require that much storage space.\n",
    "    - Cons: Cannot store duplicate keys in a bucket, and only works for equality checks (doesn't support range queries)."
   ]
  },
  {
   "cell_type": "markdown",
   "metadata": {},
   "source": [
    "## W11: Clustered Index\n",
    "\n",
    "__Question:__\n",
    "\n",
    "Why can there be only one clustered index for a database table?"
   ]
  },
  {
   "cell_type": "markdown",
   "metadata": {},
   "source": [
    "__Answer:__"
   ]
  },
  {
   "cell_type": "markdown",
   "metadata": {},
   "source": [
    "There can only be one clustered index for a database table since the records in a table are physically stored in the order of the clustered index—a table cannot be sorted in multiple ways with multiple clustered indices, which could lead to data processing issues. "
   ]
  },
  {
   "cell_type": "markdown",
   "metadata": {},
   "source": [
    "## W12: Composite Indexes\n",
    "\n",
    "__Question:__\n",
    "\n",
    "Consider a table with columns:\n",
    "1. ```lastname```\n",
    "2. ```firstname```\n",
    "\n",
    "Assume common look ups were by ```firstname``` and ```lastname``` together, or just by ```lastname.``` What would be a disadvantage of creating an index on ```firstname```?"
   ]
  },
  {
   "cell_type": "markdown",
   "metadata": {},
   "source": [
    "__Answer:__"
   ]
  },
  {
   "cell_type": "markdown",
   "metadata": {},
   "source": [
    "- There are likely multiple values corresponding to a single index on firstname, with many common firstnames—it wouldn't make sense, then, to have this index. Moreover, creating an additional index on firstname, when the common assumption is of indexing by firstname and lastname (or just lastname), would further take up uneccesary space and resources. This could cause some queries to run slower."
   ]
  },
  {
   "cell_type": "markdown",
   "metadata": {},
   "source": [
    "## W13: Query Optimization\n",
    "\n",
    "__Question:__\n",
    "\n",
    "Explain the concept of equivalent queries and their importance for query optimization."
   ]
  },
  {
   "cell_type": "markdown",
   "metadata": {},
   "source": [
    "__Answer:__"
   ]
  },
  {
   "cell_type": "markdown",
   "metadata": {},
   "source": [
    "- Equivalent queries are queries that produce the same results. Query optimization involves choosing a query among equivalent evaluation plans with the lowest cost—cost consists of statistical information in a query, such as the number of tuples in the relation, size of the tuples, as well as disk cost (number of seeks or block transfers). Choosing the query with the lowest cost improves the execution of the query"
   ]
  },
  {
   "cell_type": "markdown",
   "metadata": {},
   "source": [
    "## W14: Operator Implementation\n",
    "\n",
    "__Question:__\n",
    "\n",
    "There are many possible algorithms for implementing a specific operator, e.g. JOIN. Give a scenario where a Sort-Merge Join is better than a hash join, and vice versa."
   ]
  },
  {
   "cell_type": "markdown",
   "metadata": {},
   "source": [
    "__Answer:__"
   ]
  },
  {
   "cell_type": "markdown",
   "metadata": {},
   "source": [
    "- If both tables in the JOIN are ordered/sorted already, then the Sort-Merge join would be better than a hash join, since the Sort-Merge won't have to sort each table, and only scan and merge matching records in the tables—whereas a Hash join would require creating a hashmap for both tables and iteratively compare matching records. Directly iterating/scanning through the values would be more efficient as in Sort-Merge join.\n",
    "- If both tables in the JOIN are unordered/unsorted and cannot be easily sorted, then a hash join would be better—Sort-Merge would first sort both tables, which requires a lot of time, and then iterate through the records and merge matching records. The hash join would be more efficient in this case, due to the computation required to sort both datasets. "
   ]
  },
  {
   "cell_type": "markdown",
   "metadata": {},
   "source": []
  },
  {
   "cell_type": "markdown",
   "metadata": {},
   "source": [
    "## W15: Optimizing via Index Creation\n",
    "\n",
    "__Question:__\n",
    "\n",
    "Consider a scenario in which the SQL statement is of the form ```SELECT DISTINCT c1, c2, c3 from T.``` Why might it make sense to create an index to optimize this query?"
   ]
  },
  {
   "cell_type": "markdown",
   "metadata": {},
   "source": [
    "__Answer:__"
   ]
  },
  {
   "cell_type": "markdown",
   "metadata": {},
   "source": [
    "- There will be a generic improvement using indices, which should generally improve query performance. With larger amount of columns in the SELECT DISTINCT clause, indexing should generally improve the retrieval of unique tuples of elements (v1, v2, v3) from the table, especially since we are attempting to retrieve unique values with DISTINCT. Creating a composite index on these values would make the query much faster, and should be used if the data table requires many queries that use the composite index."
   ]
  }
 ],
 "metadata": {
  "kernelspec": {
   "display_name": "Python 3 (ipykernel)",
   "language": "python",
   "name": "python3"
  },
  "language_info": {
   "codemirror_mode": {
    "name": "ipython",
    "version": 3
   },
   "file_extension": ".py",
   "mimetype": "text/x-python",
   "name": "python",
   "nbconvert_exporter": "python",
   "pygments_lexer": "ipython3",
   "version": "3.10.8 (main, Oct 13 2022, 09:48:40) [Clang 14.0.0 (clang-1400.0.29.102)]"
  },
  "vscode": {
   "interpreter": {
    "hash": "b0fa6594d8f4cbf19f97940f81e996739fb7646882a419484c72d19e05852a7e"
   }
  }
 },
 "nbformat": 4,
 "nbformat_minor": 4
}
